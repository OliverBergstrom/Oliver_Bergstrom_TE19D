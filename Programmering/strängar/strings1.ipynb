{
 "metadata": {
  "language_info": {
   "codemirror_mode": {
    "name": "ipython",
    "version": 3
   },
   "file_extension": ".py",
   "mimetype": "text/x-python",
   "name": "python",
   "nbconvert_exporter": "python",
   "pygments_lexer": "ipython3",
   "version": "3.8.3-final"
  },
  "orig_nbformat": 2,
  "kernelspec": {
   "name": "python3",
   "display_name": "Python 3.8.3 64-bit (conda)",
   "metadata": {
    "interpreter": {
     "hash": "ea2bf8df58e8c6c38a198f5e779864331f59c80a7117b6a52bbc6cff1821914e"
    }
   }
  }
 },
 "nbformat": 4,
 "nbformat_minor": 2,
 "cells": [
  {
   "source": [
    "# strängar python\n"
   ],
   "cell_type": "markdown",
   "metadata": {}
  },
  {
   "source": [
    "# konkatenering"
   ],
   "cell_type": "markdown",
   "metadata": {}
  },
  {
   "cell_type": "code",
   "execution_count": 7,
   "metadata": {
    "tags": []
   },
   "outputs": [
    {
     "output_type": "error",
     "ename": "SyntaxError",
     "evalue": "invalid syntax (<ipython-input-7-abe22ec0c66c>, line 8)",
     "traceback": [
      "\u001b[1;36m  File \u001b[1;32m\"<ipython-input-7-abe22ec0c66c>\"\u001b[1;36m, line \u001b[1;32m8\u001b[0m\n\u001b[1;33m    person = \"namn: \\t\" + namn +\"\\n\"+ \"ålder: \\t\" + ålder +\u001b[0m\n\u001b[1;37m                                                           ^\u001b[0m\n\u001b[1;31mSyntaxError\u001b[0m\u001b[1;31m:\u001b[0m invalid syntax\n"
     ]
    }
   ],
   "source": [
    "förnamn = \"Oliver\"\n",
    "efternamn = \"Bergström\"\n",
    "ålder = 17\n",
    "telefon = 9191\n",
    "\n",
    "# konkatenering\n",
    "namn = förnamn + \" \" + efternamn\n",
    "person = \"namn: \\t\" + namn +\"\\n\"+ \"ålder: \\t\" + ålder +\n",
    "\"\\ntelefon\" + str(telefon) # konkatenerat med en nyrad (escapesekvens)\n",
    "\n",
    "print(person)"
   ]
  },
  {
   "cell_type": "code",
   "execution_count": 6,
   "metadata": {
    "tags": []
   },
   "outputs": [
    {
     "output_type": "stream",
     "name": "stdout",
     "text": "6\n"
    }
   ],
   "source": [
    "tal1 = int(input(\"Ange ett tal: \"))\n",
    "tal2 = int(input(\"Ange ett annat tal: \"))\n",
    "\n",
    "summa = tal1 + tal2\n",
    "print(summa)"
   ]
  },
  {
   "source": [
    "# indexering"
   ],
   "cell_type": "markdown",
   "metadata": {}
  },
  {
   "cell_type": "code",
   "execution_count": 13,
   "metadata": {
    "tags": []
   },
   "outputs": [
    {
     "output_type": "stream",
     "name": "stdout",
     "text": "Antalet bokstäver i alfabetet är: 29\nBokstav på index 0: a\nBokstav på index 8: i\nBokstav på index -2: ä\nAlfabetet baklänges: öäåzyxwvutsrqponmlkjihgfedcba\n"
    }
   ],
   "source": [
    "alfabet = \"abcdefghijklmnopqrstuvwxyzåäö\"\n",
    "antal_bokstäver = len(alfabet)\n",
    "\n",
    "print(f\"Antalet bokstäver i alfabetet är: {antal_bokstäver}\")\n",
    "print(f\"Bokstav på index 0: {alfabet[0]}\")\n",
    "print(f\"Bokstav på index 8: {alfabet[8]}\")\n",
    "print(f\"Bokstav på index -2: {alfabet[-2]}\")\n",
    "print(f\"Alfabetet baklänges: {alfabet[::-1]}\")"
   ]
  },
  {
   "source": [
    "# split()"
   ],
   "cell_type": "markdown",
   "metadata": {}
  },
  {
   "cell_type": "code",
   "execution_count": 25,
   "metadata": {
    "tags": []
   },
   "outputs": [
    {
     "output_type": "stream",
     "name": "stdout",
     "text": "matte fysik programmering svenska\n['matte', 'fysik', 'programmering', 'svenska']\nJag gillar matte\nJag gillar fysik\nJag gillar programmering\nJag gillar svenska\n"
    }
   ],
   "source": [
    "favoritämnen = \"matte, fysik, programmering, svenska\"\n",
    "\n",
    "print(favoritämnen)\n",
    "\n",
    "ämnen_lista = favoritämnen.split(\", \")\n",
    "\n",
    "print(ämnen_lista)\n",
    "ämnen_lista[2]\n",
    "\n",
    "for ämne in ämnen_lista:\n",
    "    print(f\"Jag gillar {ämne}\")"
   ]
  },
  {
   "cell_type": "code",
   "execution_count": 1,
   "metadata": {
    "tags": []
   },
   "outputs": [
    {
     "output_type": "stream",
     "name": "stdout",
     "text": [
      "Antalet bokstäver i namnet: 6\n"
     ]
    }
   ],
   "source": [
    "# 1\n",
    "\n",
    "namn = input(\"skriv ditt namn\")\n",
    "antal_bokstäver = len(namn)\n",
    "\n",
    "print(f\"Antalet bokstäver i namnet: {antal_bokstäver}\")"
   ]
  },
  {
   "cell_type": "code",
   "execution_count": 23,
   "metadata": {
    "tags": []
   },
   "outputs": [
    {
     "output_type": "stream",
     "name": "stdout",
     "text": "Antalet bokstäver i meningen: 15\n"
    }
   ],
   "source": [
    "# 2\n",
    "\n",
    "mening = (\"En bild säger mer än tusen ord, en matematisk formel säger mer än tusen bilder\")\n",
    "antal_ord = mening.split(\" \")\n",
    "\n",
    "antal_ord = len(antal_ord)\n",
    "\n",
    "print(f\"Antalet bokstäver i meningen: {antal_ord}\")"
   ]
  },
  {
   "cell_type": "code",
   "execution_count": 29,
   "metadata": {
    "tags": []
   },
   "outputs": [
    {
     "output_type": "stream",
     "name": "stdout",
     "text": "ni talar bra latin är ett palindrom\n"
    }
   ],
   "source": [
    "# 3\n",
    "\n",
    "palindrom = input(\"Skriv något här \")\n",
    "\n",
    "k = palindrom.lower()\n",
    "\n",
    "k = k.replace(\" \",\"\")\n",
    "\n",
    "if str(k) == str(k)[::-1]:\n",
    "    print(f\"{palindrom} är ett palindrom\")\n",
    "else:\n",
    "    print(f\"{palindrom} är inget palindrom\")"
   ]
  },
  {
   "cell_type": "code",
   "execution_count": null,
   "metadata": {},
   "outputs": [],
   "source": [
    "# 4\n",
    "\n"
   ]
  }
 ]
}
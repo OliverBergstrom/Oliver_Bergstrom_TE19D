{
 "metadata": {
  "language_info": {
   "codemirror_mode": {
    "name": "ipython",
    "version": 3
   },
   "file_extension": ".py",
   "mimetype": "text/x-python",
   "name": "python",
   "nbconvert_exporter": "python",
   "pygments_lexer": "ipython3",
   "version": "3.8.6-final"
  },
  "orig_nbformat": 2,
  "kernelspec": {
   "name": "python3",
   "display_name": "Python 3.8.6 64-bit",
   "metadata": {
    "interpreter": {
     "hash": "d921abd2cbb9bd0040e97c6895a8599e7160450e7542ca56fa0dccfebd697a77"
    }
   }
  }
 },
 "nbformat": 4,
 "nbformat_minor": 2,
 "cells": [
  {
   "cell_type": "code",
   "execution_count": null,
   "metadata": {},
   "outputs": [],
   "source": [
    "# Dictionary\n",
    "\n",
    "# metafor: en ordlista - söker på ett ord och får fram en förklaring\n",
    "\n",
    "# key:value par"
   ]
  },
  {
   "cell_type": "code",
   "execution_count": 2,
   "metadata": {},
   "outputs": [
    {
     "output_type": "stream",
     "name": "stdout",
     "text": [
      "{'namn': 'Oliver', 'ålder': 17, 'yrke': 'elev', 'arbetsplats': 'NTI'}\nPersonens namn är Oliver\nHan är 17 år gammal\n"
     ]
    }
   ],
   "source": [
    "# syntax med dict()\n",
    "person = dict(\n",
    "    namn = \"Oliver\",\n",
    "    ålder = 17,\n",
    "    yrke = \"elev\",\n",
    "    arbetsplats = \"NTI\"\n",
    ")\n",
    "\n",
    "print(person)\n",
    "print(f\"Personens namn är {person['namn']}\")\n",
    "print(f\"Han är {person['ålder']} år gammal\")\n",
    "print(f\"{person['namn']} jobbar som {person['yrke']} på skolan {person['arbetsplats']}\")"
   ]
  },
  {
   "cell_type": "code",
   "execution_count": 6,
   "metadata": {},
   "outputs": [
    {
     "output_type": "stream",
     "name": "stdout",
     "text": [
      "Orden vi ska lära oss är: \ntilldela, datastruktur, sträng, dictionary, \n\nGlosa \t Betydelse\ntilldela \t ge ett värde till en variabel\ndatastruktur \t strukturering av data\nsträng \t sekvens av tecken\ndictionary \t datastruktur för att spara data i key:value par\n"
     ]
    }
   ],
   "source": [
    "# syntax med måsvingar\n",
    "glosor = {\n",
    "    \"tilldela\":\"ge ett värde till en variabel\",\n",
    "    \"datastruktur\":\"strukturering av data\",\n",
    "    \"sträng\":\"sekvens av tecken\"\n",
    "}\n",
    "\n",
    "# lägga till element i dictionary\n",
    "glosor[\"dictionary\"] = \"datastruktur för att spara data i key:value par\"\n",
    "\n",
    "# itererar över nycklarna i dictionary\n",
    "print(\"Orden vi ska lära oss är: \")\n",
    "for key in glosor:\n",
    "    print(key, end=\", \")\n",
    "\n",
    "print(\"\\n\\nGlosa \\t Betydelse\")\n",
    "# itererar över nyckel, värde i dictionary\n",
    "for key, value in glosor.items():\n",
    "    print(f\"{key} \\t {value}\")\n",
    "\n"
   ]
  },
  {
   "cell_type": "code",
   "execution_count": 15,
   "metadata": {},
   "outputs": [
    {
     "output_type": "stream",
     "name": "stdout",
     "text": [
      "Kurser\n100, 150, 100, 100, 100, 100, 100, 100, 100, \n\n Totala poäng:950\n"
     ]
    }
   ],
   "source": [
    "# 1\n",
    "\n",
    "summa = 0\n",
    "\n",
    "kurser = {\n",
    "    \"Matematik\":100,\n",
    "    \"Fysik\":150,\n",
    "    \"Programmering\":100,\n",
    "    \"Idrott\":100,\n",
    "    \"Webbutveckling\":100,\n",
    "    \"Tillämpadprogrammering\":100,\n",
    "    \"Engelska\":100,\n",
    "    \"Svenska\":100,\n",
    "    \"Dator och nätverksteknik\":100\n",
    "}\n",
    "\n",
    "print(\"Kurser\")\n",
    "for key, value in kurser.items():\n",
    "    summa += value\n",
    "    print(value, end=\", \")\n",
    "\n",
    "print(f\"\\n\\n Totala poäng:{summa}\")"
   ]
  },
  {
   "cell_type": "code",
   "execution_count": null,
   "metadata": {},
   "outputs": [],
   "source": []
  }
 ]
}
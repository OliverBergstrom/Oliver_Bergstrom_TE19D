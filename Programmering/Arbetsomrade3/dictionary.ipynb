{
 "metadata": {
  "language_info": {
   "codemirror_mode": {
    "name": "ipython",
    "version": 3
   },
   "file_extension": ".py",
   "mimetype": "text/x-python",
   "name": "python",
   "nbconvert_exporter": "python",
   "pygments_lexer": "ipython3",
   "version": "3.8.6-final"
  },
  "orig_nbformat": 2,
  "kernelspec": {
   "name": "python3",
   "display_name": "Python 3.8.6 64-bit",
   "metadata": {
    "interpreter": {
     "hash": "d921abd2cbb9bd0040e97c6895a8599e7160450e7542ca56fa0dccfebd697a77"
    }
   }
  }
 },
 "nbformat": 4,
 "nbformat_minor": 2,
 "cells": [
  {
   "cell_type": "code",
   "execution_count": null,
   "metadata": {},
   "outputs": [],
   "source": [
    "# Dictionary\n",
    "\n",
    "# metafor: en ordlista - söker på ett ord och får fram en förklaring\n",
    "\n",
    "# key:value par"
   ]
  },
  {
   "cell_type": "code",
   "execution_count": 2,
   "metadata": {},
   "outputs": [
    {
     "output_type": "stream",
     "name": "stdout",
     "text": [
      "{'namn': 'Oliver', 'ålder': 17, 'yrke': 'elev', 'arbetsplats': 'NTI'}\nPersonens namn är Oliver\nHan är 17 år gammal\n"
     ]
    }
   ],
   "source": [
    "# syntax med dict()\n",
    "person = dict(\n",
    "    namn = \"Oliver\",\n",
    "    ålder = 17,\n",
    "    yrke = \"elev\",\n",
    "    arbetsplats = \"NTI\"\n",
    ")\n",
    "\n",
    "print(person)\n",
    "print(f\"Personens namn är {person['namn']}\")\n",
    "print(f\"Han är {person['ålder']} år gammal\")\n",
    "print(f\"{person['namn']} jobbar som {person['yrke']} på skolan {person['arbetsplats']}\")"
   ]
  },
  {
   "cell_type": "code",
   "execution_count": 21,
   "metadata": {},
   "outputs": [
    {
     "output_type": "error",
     "ename": "TypeError",
     "evalue": "string indices must be integers",
     "traceback": [
      "\u001b[1;31m---------------------------------------------------------------------------\u001b[0m",
      "\u001b[1;31mTypeError\u001b[0m                                 Traceback (most recent call last)",
      "\u001b[1;32m<ipython-input-21-59933b7dbdd8>\u001b[0m in \u001b[0;36m<module>\u001b[1;34m\u001b[0m\n\u001b[0;32m      6\u001b[0m }\n\u001b[0;32m      7\u001b[0m \u001b[1;33m\u001b[0m\u001b[0m\n\u001b[1;32m----> 8\u001b[1;33m \u001b[0mprint\u001b[0m\u001b[1;33m(\u001b[0m\u001b[1;34m\"husdjur\"\u001b[0m\u001b[1;33m[\u001b[0m\u001b[1;34m\"actions\"\u001b[0m\u001b[1;33m]\u001b[0m\u001b[1;33m[\u001b[0m\u001b[1;36m1\u001b[0m\u001b[1;33m]\u001b[0m\u001b[1;33m)\u001b[0m\u001b[1;33m\u001b[0m\u001b[1;33m\u001b[0m\u001b[0m\n\u001b[0m",
      "\u001b[1;31mTypeError\u001b[0m: string indices must be integers"
     ]
    }
   ],
   "source": [
    "husdjur = {\n",
    "    \"djur\": \"fisk\",\n",
    "    \"ålder\": 5,\n",
    "    \"ätbar\": False,\n",
    "    \"actions\": [\"simma fram\", \"simma bak\", \"simma höger\"]\n",
    "}\n",
    "\n",
    "print(\"husdjur\"[\"actions\"][1])"
   ]
  },
  {
   "cell_type": "code",
   "execution_count": 6,
   "metadata": {},
   "outputs": [
    {
     "output_type": "stream",
     "name": "stdout",
     "text": [
      "Orden vi ska lära oss är: \ntilldela, datastruktur, sträng, dictionary, \n\nGlosa \t Betydelse\ntilldela \t ge ett värde till en variabel\ndatastruktur \t strukturering av data\nsträng \t sekvens av tecken\ndictionary \t datastruktur för att spara data i key:value par\n"
     ]
    }
   ],
   "source": [
    "# syntax med måsvingar\n",
    "glosor = {\n",
    "    \"tilldela\":\"ge ett värde till en variabel\",\n",
    "    \"datastruktur\":\"strukturering av data\",\n",
    "    \"sträng\":\"sekvens av tecken\"\n",
    "}\n",
    "\n",
    "# lägga till element i dictionary\n",
    "glosor[\"dictionary\"] = \"datastruktur för att spara data i key:value par\"\n",
    "\n",
    "# itererar över nycklarna i dictionary\n",
    "print(\"Orden vi ska lära oss är: \")\n",
    "for key in glosor:\n",
    "    print(key, end=\", \")\n",
    "\n",
    "print(\"\\n\\nGlosa \\t Betydelse\")\n",
    "# itererar över nyckel, värde i dictionary\n",
    "for key, value in glosor.items():\n",
    "    print(f\"{key} \\t {value}\")\n",
    "\n"
   ]
  },
  {
   "cell_type": "code",
   "execution_count": 15,
   "metadata": {},
   "outputs": [
    {
     "output_type": "stream",
     "name": "stdout",
     "text": [
      "Kurser\n100, 150, 100, 100, 100, 100, 100, 100, 100, \n\n Totala poäng:950\n"
     ]
    }
   ],
   "source": [
    "# 1\n",
    "\n",
    "summa = 0\n",
    "\n",
    "kurser = {\n",
    "    \"Matematik\":100,\n",
    "    \"Fysik\":150,\n",
    "    \"Programmering\":100,\n",
    "    \"Idrott\":100,\n",
    "    \"Webbutveckling\":100,\n",
    "    \"Tillämpadprogrammering\":100,\n",
    "    \"Engelska\":100,\n",
    "    \"Svenska\":100,\n",
    "    \"Dator och nätverksteknik\":100\n",
    "}\n",
    "\n",
    "print(\"Kurser\")\n",
    "for key, value in kurser.items():\n",
    "    summa += value\n",
    "    print(value, end=\", \")\n",
    "\n",
    "print(f\"\\n\\n Totala poäng:{summa}\")"
   ]
  },
  {
   "cell_type": "code",
   "execution_count": 15,
   "metadata": {},
   "outputs": [
    {
     "output_type": "stream",
     "name": "stdout",
     "text": [
      "Frekvenstabell\n1: 16726\n2: 16695\n3: 16680\n4: 16410\n5: 16660\n6: 16829\n"
     ]
    }
   ],
   "source": [
    "# 2\n",
    "import random as rnd\n",
    "\n",
    "ett = 0\n",
    "två = 0\n",
    "tre = 0\n",
    "fyra = 0\n",
    "fem = 0\n",
    "sex = 0\n",
    "\n",
    "for i in range(100000):\n",
    "    tärning = (rnd.randint(1,6))\n",
    "    if tärning == 1:\n",
    "        ett += 1\n",
    "    elif tärning == 2:\n",
    "        två += 1\n",
    "    elif tärning == 3:\n",
    "        tre += 1\n",
    "    elif tärning == 4:\n",
    "        fyra += 1\n",
    "    elif tärning == 5:\n",
    "        fem += 1\n",
    "    elif tärning == 6:\n",
    "        sex += 1\n",
    "\n",
    "Frekvens = {\n",
    "    \"1:\":ett,\n",
    "    \"2:\":två,\n",
    "    \"3:\":tre,\n",
    "    \"4:\":fyra,\n",
    "    \"5:\":fem,\n",
    "    \"6:\":sex\n",
    "}\n",
    "\n",
    "print(\"Frekvenstabell\")\n",
    "for key, value in Frekvens.items():\n",
    "    print(f\"{key} {value}\")\n",
    "\n"
   ]
  },
  {
   "cell_type": "code",
   "execution_count": null,
   "metadata": {},
   "outputs": [],
   "source": [
    "# 3\n",
    "\n",
    "with open(\"pokemonlista.txt\" \"r\") as f1: "
   ]
  }
 ]
}
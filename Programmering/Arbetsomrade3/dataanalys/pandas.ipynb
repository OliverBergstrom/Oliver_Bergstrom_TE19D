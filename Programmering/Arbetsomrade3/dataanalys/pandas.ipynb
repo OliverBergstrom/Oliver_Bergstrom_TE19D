{
 "metadata": {
  "language_info": {
   "codemirror_mode": {
    "name": "ipython",
    "version": 3
   },
   "file_extension": ".py",
   "mimetype": "text/x-python",
   "name": "python",
   "nbconvert_exporter": "python",
   "pygments_lexer": "ipython3",
   "version": "3.8.6"
  },
  "orig_nbformat": 2,
  "kernelspec": {
   "name": "python3",
   "display_name": "Python 3.8.6 64-bit",
   "metadata": {
    "interpreter": {
     "hash": "d921abd2cbb9bd0040e97c6895a8599e7160450e7542ca56fa0dccfebd697a77"
    }
   }
  }
 },
 "nbformat": 4,
 "nbformat_minor": 2,
 "cells": [
  {
   "cell_type": "code",
   "execution_count": 2,
   "metadata": {},
   "outputs": [
    {
     "output_type": "execute_result",
     "data": {
      "text/plain": [
       "   Elev  Uppg 1  Uppg 2  Uppg 3  Uppg 4  Uppg 5  Total      Betyg\n",
       "0   Ada     3.0     0.0     2.0     3.0     0.0    8.0  Underkänt\n",
       "1  Beda     2.0     3.0     1.0     3.0     3.0   12.0    Godkänt\n",
       "2  Ceda     3.0     1.0     0.0     1.0     0.0    5.0  Underkänt\n",
       "3  Deda     0.0     2.0     0.0     3.0     3.0    8.0  Underkänt\n",
       "4   Eda     2.0     1.0     2.0     1.0     3.0    9.0    Godkänt"
      ],
      "text/html": "<div>\n<style scoped>\n    .dataframe tbody tr th:only-of-type {\n        vertical-align: middle;\n    }\n\n    .dataframe tbody tr th {\n        vertical-align: top;\n    }\n\n    .dataframe thead th {\n        text-align: right;\n    }\n</style>\n<table border=\"1\" class=\"dataframe\">\n  <thead>\n    <tr style=\"text-align: right;\">\n      <th></th>\n      <th>Elev</th>\n      <th>Uppg 1</th>\n      <th>Uppg 2</th>\n      <th>Uppg 3</th>\n      <th>Uppg 4</th>\n      <th>Uppg 5</th>\n      <th>Total</th>\n      <th>Betyg</th>\n    </tr>\n  </thead>\n  <tbody>\n    <tr>\n      <th>0</th>\n      <td>Ada</td>\n      <td>3.0</td>\n      <td>0.0</td>\n      <td>2.0</td>\n      <td>3.0</td>\n      <td>0.0</td>\n      <td>8.0</td>\n      <td>Underkänt</td>\n    </tr>\n    <tr>\n      <th>1</th>\n      <td>Beda</td>\n      <td>2.0</td>\n      <td>3.0</td>\n      <td>1.0</td>\n      <td>3.0</td>\n      <td>3.0</td>\n      <td>12.0</td>\n      <td>Godkänt</td>\n    </tr>\n    <tr>\n      <th>2</th>\n      <td>Ceda</td>\n      <td>3.0</td>\n      <td>1.0</td>\n      <td>0.0</td>\n      <td>1.0</td>\n      <td>0.0</td>\n      <td>5.0</td>\n      <td>Underkänt</td>\n    </tr>\n    <tr>\n      <th>3</th>\n      <td>Deda</td>\n      <td>0.0</td>\n      <td>2.0</td>\n      <td>0.0</td>\n      <td>3.0</td>\n      <td>3.0</td>\n      <td>8.0</td>\n      <td>Underkänt</td>\n    </tr>\n    <tr>\n      <th>4</th>\n      <td>Eda</td>\n      <td>2.0</td>\n      <td>1.0</td>\n      <td>2.0</td>\n      <td>1.0</td>\n      <td>3.0</td>\n      <td>9.0</td>\n      <td>Godkänt</td>\n    </tr>\n  </tbody>\n</table>\n</div>"
     },
     "metadata": {},
     "execution_count": 2
    }
   ],
   "source": [
    "import pandas as pd\n",
    "import numpy as np\n",
    "import matplotlib.pyplot as plt\n",
    "# df står för dataframe\n",
    "df = pd.read_csv(\"Matteprov.csv\")\n",
    "#print(df)\n",
    "df.head(6)\n",
    "\n",
    "# NaN - not a number (missing value i vårt fall)\n",
    "# df.dropna( ) # kastar alla rader som innehåller NaN\n",
    "\n",
    "# fyll alla NaN med nol\n",
    "df = df.fillna(0)\n",
    "df\n",
    "# skapar en ny kolumn \"total\" som tilldelas summan på varje rad\n",
    "df[\"Total\"] = df.sum(axis=1)\n",
    "df[\"Betyg\"] = np.where(df[\"Total\"]>8, \"Godkänt\", \"Underkänt\")\n",
    "df.head()"
   ]
  },
  {
   "cell_type": "code",
   "execution_count": 1,
   "metadata": {},
   "outputs": [
    {
     "output_type": "stream",
     "name": "stdout",
     "text": [
      "hej\n"
     ]
    }
   ],
   "source": [
    "print(\"hej\")"
   ]
  },
  {
   "source": [
    "# Select data\n",
    "    * rader\n",
    "    * kolumner"
   ],
   "cell_type": "markdown",
   "metadata": {}
  },
  {
   "cell_type": "code",
   "execution_count": 1,
   "metadata": {},
   "outputs": [
    {
     "output_type": "error",
     "ename": "NameError",
     "evalue": "name 'df' is not defined",
     "traceback": [
      "\u001b[1;31m---------------------------------------------------------------------------\u001b[0m",
      "\u001b[1;31mNameError\u001b[0m                                 Traceback (most recent call last)",
      "\u001b[1;32m<ipython-input-1-55316a91143e>\u001b[0m in \u001b[0;36m<module>\u001b[1;34m\u001b[0m\n\u001b[1;32m----> 1\u001b[1;33m \u001b[0mprint\u001b[0m\u001b[1;33m(\u001b[0m\u001b[0mdf\u001b[0m\u001b[1;33m[\u001b[0m\u001b[1;34m\"elev\"\u001b[0m\u001b[1;33m]\u001b[0m\u001b[1;33m)\u001b[0m\u001b[1;33m\u001b[0m\u001b[1;33m\u001b[0m\u001b[0m\n\u001b[0m\u001b[0;32m      2\u001b[0m \u001b[0mprint\u001b[0m\u001b[1;33m(\u001b[0m\u001b[0mdf\u001b[0m\u001b[1;33m[\u001b[0m\u001b[1;34m\"betyg\"\u001b[0m\u001b[1;33m]\u001b[0m\u001b[1;33m)\u001b[0m\u001b[1;33m\u001b[0m\u001b[1;33m\u001b[0m\u001b[0m\n",
      "\u001b[1;31mNameError\u001b[0m: name 'df' is not defined"
     ]
    }
   ],
   "source": [
    "print(df[\"elev\"])\n",
    "print(df[\"betyg\"])\n"
   ]
  },
  {
   "cell_type": "code",
   "execution_count": 3,
   "metadata": {},
   "outputs": [
    {
     "output_type": "execute_result",
     "data": {
      "text/plain": [
       "0.0"
      ]
     },
     "metadata": {},
     "execution_count": 3
    }
   ],
   "source": [
    "# plocka ut rader med index\n",
    "df.iloc[2,5]"
   ]
  },
  {
   "source": [
    "## conditional filtering\n",
    "\n",
    "- vilkorsbaserad sökning"
   ],
   "cell_type": "markdown",
   "metadata": {}
  },
  {
   "cell_type": "code",
   "execution_count": 3,
   "metadata": {},
   "outputs": [
    {
     "output_type": "error",
     "ename": "KeyError",
     "evalue": "'betyg'",
     "traceback": [
      "\u001b[1;31m---------------------------------------------------------------------------\u001b[0m",
      "\u001b[1;31mKeyError\u001b[0m                                  Traceback (most recent call last)",
      "\u001b[1;32m~\\AppData\\Local\\Programs\\Python\\Python38\\lib\\site-packages\\pandas\\core\\indexes\\base.py\u001b[0m in \u001b[0;36mget_loc\u001b[1;34m(self, key, method, tolerance)\u001b[0m\n\u001b[0;32m   3079\u001b[0m             \u001b[1;32mtry\u001b[0m\u001b[1;33m:\u001b[0m\u001b[1;33m\u001b[0m\u001b[1;33m\u001b[0m\u001b[0m\n\u001b[1;32m-> 3080\u001b[1;33m                 \u001b[1;32mreturn\u001b[0m \u001b[0mself\u001b[0m\u001b[1;33m.\u001b[0m\u001b[0m_engine\u001b[0m\u001b[1;33m.\u001b[0m\u001b[0mget_loc\u001b[0m\u001b[1;33m(\u001b[0m\u001b[0mcasted_key\u001b[0m\u001b[1;33m)\u001b[0m\u001b[1;33m\u001b[0m\u001b[1;33m\u001b[0m\u001b[0m\n\u001b[0m\u001b[0;32m   3081\u001b[0m             \u001b[1;32mexcept\u001b[0m \u001b[0mKeyError\u001b[0m \u001b[1;32mas\u001b[0m \u001b[0merr\u001b[0m\u001b[1;33m:\u001b[0m\u001b[1;33m\u001b[0m\u001b[1;33m\u001b[0m\u001b[0m\n",
      "\u001b[1;32mpandas\\_libs\\index.pyx\u001b[0m in \u001b[0;36mpandas._libs.index.IndexEngine.get_loc\u001b[1;34m()\u001b[0m\n",
      "\u001b[1;32mpandas\\_libs\\index.pyx\u001b[0m in \u001b[0;36mpandas._libs.index.IndexEngine.get_loc\u001b[1;34m()\u001b[0m\n",
      "\u001b[1;32mpandas\\_libs\\hashtable_class_helper.pxi\u001b[0m in \u001b[0;36mpandas._libs.hashtable.PyObjectHashTable.get_item\u001b[1;34m()\u001b[0m\n",
      "\u001b[1;32mpandas\\_libs\\hashtable_class_helper.pxi\u001b[0m in \u001b[0;36mpandas._libs.hashtable.PyObjectHashTable.get_item\u001b[1;34m()\u001b[0m\n",
      "\u001b[1;31mKeyError\u001b[0m: 'betyg'",
      "\nThe above exception was the direct cause of the following exception:\n",
      "\u001b[1;31mKeyError\u001b[0m                                  Traceback (most recent call last)",
      "\u001b[1;32m<ipython-input-3-8627d539e1aa>\u001b[0m in \u001b[0;36m<module>\u001b[1;34m\u001b[0m\n\u001b[1;32m----> 1\u001b[1;33m \u001b[0mdf\u001b[0m\u001b[1;33m[\u001b[0m\u001b[1;34m\"betyg\"\u001b[0m\u001b[1;33m]\u001b[0m \u001b[1;33m==\u001b[0m \u001b[1;34m\"godkänt\"\u001b[0m\u001b[1;33m\u001b[0m\u001b[1;33m\u001b[0m\u001b[0m\n\u001b[0m",
      "\u001b[1;32m~\\AppData\\Local\\Programs\\Python\\Python38\\lib\\site-packages\\pandas\\core\\frame.py\u001b[0m in \u001b[0;36m__getitem__\u001b[1;34m(self, key)\u001b[0m\n\u001b[0;32m   3022\u001b[0m             \u001b[1;32mif\u001b[0m \u001b[0mself\u001b[0m\u001b[1;33m.\u001b[0m\u001b[0mcolumns\u001b[0m\u001b[1;33m.\u001b[0m\u001b[0mnlevels\u001b[0m \u001b[1;33m>\u001b[0m \u001b[1;36m1\u001b[0m\u001b[1;33m:\u001b[0m\u001b[1;33m\u001b[0m\u001b[1;33m\u001b[0m\u001b[0m\n\u001b[0;32m   3023\u001b[0m                 \u001b[1;32mreturn\u001b[0m \u001b[0mself\u001b[0m\u001b[1;33m.\u001b[0m\u001b[0m_getitem_multilevel\u001b[0m\u001b[1;33m(\u001b[0m\u001b[0mkey\u001b[0m\u001b[1;33m)\u001b[0m\u001b[1;33m\u001b[0m\u001b[1;33m\u001b[0m\u001b[0m\n\u001b[1;32m-> 3024\u001b[1;33m             \u001b[0mindexer\u001b[0m \u001b[1;33m=\u001b[0m \u001b[0mself\u001b[0m\u001b[1;33m.\u001b[0m\u001b[0mcolumns\u001b[0m\u001b[1;33m.\u001b[0m\u001b[0mget_loc\u001b[0m\u001b[1;33m(\u001b[0m\u001b[0mkey\u001b[0m\u001b[1;33m)\u001b[0m\u001b[1;33m\u001b[0m\u001b[1;33m\u001b[0m\u001b[0m\n\u001b[0m\u001b[0;32m   3025\u001b[0m             \u001b[1;32mif\u001b[0m \u001b[0mis_integer\u001b[0m\u001b[1;33m(\u001b[0m\u001b[0mindexer\u001b[0m\u001b[1;33m)\u001b[0m\u001b[1;33m:\u001b[0m\u001b[1;33m\u001b[0m\u001b[1;33m\u001b[0m\u001b[0m\n\u001b[0;32m   3026\u001b[0m                 \u001b[0mindexer\u001b[0m \u001b[1;33m=\u001b[0m \u001b[1;33m[\u001b[0m\u001b[0mindexer\u001b[0m\u001b[1;33m]\u001b[0m\u001b[1;33m\u001b[0m\u001b[1;33m\u001b[0m\u001b[0m\n",
      "\u001b[1;32m~\\AppData\\Local\\Programs\\Python\\Python38\\lib\\site-packages\\pandas\\core\\indexes\\base.py\u001b[0m in \u001b[0;36mget_loc\u001b[1;34m(self, key, method, tolerance)\u001b[0m\n\u001b[0;32m   3080\u001b[0m                 \u001b[1;32mreturn\u001b[0m \u001b[0mself\u001b[0m\u001b[1;33m.\u001b[0m\u001b[0m_engine\u001b[0m\u001b[1;33m.\u001b[0m\u001b[0mget_loc\u001b[0m\u001b[1;33m(\u001b[0m\u001b[0mcasted_key\u001b[0m\u001b[1;33m)\u001b[0m\u001b[1;33m\u001b[0m\u001b[1;33m\u001b[0m\u001b[0m\n\u001b[0;32m   3081\u001b[0m             \u001b[1;32mexcept\u001b[0m \u001b[0mKeyError\u001b[0m \u001b[1;32mas\u001b[0m \u001b[0merr\u001b[0m\u001b[1;33m:\u001b[0m\u001b[1;33m\u001b[0m\u001b[1;33m\u001b[0m\u001b[0m\n\u001b[1;32m-> 3082\u001b[1;33m                 \u001b[1;32mraise\u001b[0m \u001b[0mKeyError\u001b[0m\u001b[1;33m(\u001b[0m\u001b[0mkey\u001b[0m\u001b[1;33m)\u001b[0m \u001b[1;32mfrom\u001b[0m \u001b[0merr\u001b[0m\u001b[1;33m\u001b[0m\u001b[1;33m\u001b[0m\u001b[0m\n\u001b[0m\u001b[0;32m   3083\u001b[0m \u001b[1;33m\u001b[0m\u001b[0m\n\u001b[0;32m   3084\u001b[0m         \u001b[1;32mif\u001b[0m \u001b[0mtolerance\u001b[0m \u001b[1;32mis\u001b[0m \u001b[1;32mnot\u001b[0m \u001b[1;32mNone\u001b[0m\u001b[1;33m:\u001b[0m\u001b[1;33m\u001b[0m\u001b[1;33m\u001b[0m\u001b[0m\n",
      "\u001b[1;31mKeyError\u001b[0m: 'betyg'"
     ]
    }
   ],
   "source": [
    "df[\"betyg\"] == \"godkänt\""
   ]
  },
  {
   "cell_type": "code",
   "execution_count": 4,
   "metadata": {},
   "outputs": [
    {
     "output_type": "error",
     "ename": "KeyError",
     "evalue": "'betyg'",
     "traceback": [
      "\u001b[1;31m---------------------------------------------------------------------------\u001b[0m",
      "\u001b[1;31mKeyError\u001b[0m                                  Traceback (most recent call last)",
      "\u001b[1;32m~\\AppData\\Local\\Programs\\Python\\Python38\\lib\\site-packages\\pandas\\core\\indexes\\base.py\u001b[0m in \u001b[0;36mget_loc\u001b[1;34m(self, key, method, tolerance)\u001b[0m\n\u001b[0;32m   3079\u001b[0m             \u001b[1;32mtry\u001b[0m\u001b[1;33m:\u001b[0m\u001b[1;33m\u001b[0m\u001b[1;33m\u001b[0m\u001b[0m\n\u001b[1;32m-> 3080\u001b[1;33m                 \u001b[1;32mreturn\u001b[0m \u001b[0mself\u001b[0m\u001b[1;33m.\u001b[0m\u001b[0m_engine\u001b[0m\u001b[1;33m.\u001b[0m\u001b[0mget_loc\u001b[0m\u001b[1;33m(\u001b[0m\u001b[0mcasted_key\u001b[0m\u001b[1;33m)\u001b[0m\u001b[1;33m\u001b[0m\u001b[1;33m\u001b[0m\u001b[0m\n\u001b[0m\u001b[0;32m   3081\u001b[0m             \u001b[1;32mexcept\u001b[0m \u001b[0mKeyError\u001b[0m \u001b[1;32mas\u001b[0m \u001b[0merr\u001b[0m\u001b[1;33m:\u001b[0m\u001b[1;33m\u001b[0m\u001b[1;33m\u001b[0m\u001b[0m\n",
      "\u001b[1;32mpandas\\_libs\\index.pyx\u001b[0m in \u001b[0;36mpandas._libs.index.IndexEngine.get_loc\u001b[1;34m()\u001b[0m\n",
      "\u001b[1;32mpandas\\_libs\\index.pyx\u001b[0m in \u001b[0;36mpandas._libs.index.IndexEngine.get_loc\u001b[1;34m()\u001b[0m\n",
      "\u001b[1;32mpandas\\_libs\\hashtable_class_helper.pxi\u001b[0m in \u001b[0;36mpandas._libs.hashtable.PyObjectHashTable.get_item\u001b[1;34m()\u001b[0m\n",
      "\u001b[1;32mpandas\\_libs\\hashtable_class_helper.pxi\u001b[0m in \u001b[0;36mpandas._libs.hashtable.PyObjectHashTable.get_item\u001b[1;34m()\u001b[0m\n",
      "\u001b[1;31mKeyError\u001b[0m: 'betyg'",
      "\nThe above exception was the direct cause of the following exception:\n",
      "\u001b[1;31mKeyError\u001b[0m                                  Traceback (most recent call last)",
      "\u001b[1;32m<ipython-input-4-c1e7dc950fb2>\u001b[0m in \u001b[0;36m<module>\u001b[1;34m\u001b[0m\n\u001b[1;32m----> 1\u001b[1;33m \u001b[0mdf_godkända\u001b[0m \u001b[1;33m=\u001b[0m \u001b[0mdf\u001b[0m\u001b[1;33m[\u001b[0m\u001b[0mdf\u001b[0m\u001b[1;33m[\u001b[0m\u001b[1;34m\"betyg\"\u001b[0m\u001b[1;33m]\u001b[0m \u001b[1;33m==\u001b[0m \u001b[1;34m\"godkänt\"\u001b[0m\u001b[1;33m]\u001b[0m\u001b[1;33m\u001b[0m\u001b[1;33m\u001b[0m\u001b[0m\n\u001b[0m",
      "\u001b[1;32m~\\AppData\\Local\\Programs\\Python\\Python38\\lib\\site-packages\\pandas\\core\\frame.py\u001b[0m in \u001b[0;36m__getitem__\u001b[1;34m(self, key)\u001b[0m\n\u001b[0;32m   3022\u001b[0m             \u001b[1;32mif\u001b[0m \u001b[0mself\u001b[0m\u001b[1;33m.\u001b[0m\u001b[0mcolumns\u001b[0m\u001b[1;33m.\u001b[0m\u001b[0mnlevels\u001b[0m \u001b[1;33m>\u001b[0m \u001b[1;36m1\u001b[0m\u001b[1;33m:\u001b[0m\u001b[1;33m\u001b[0m\u001b[1;33m\u001b[0m\u001b[0m\n\u001b[0;32m   3023\u001b[0m                 \u001b[1;32mreturn\u001b[0m \u001b[0mself\u001b[0m\u001b[1;33m.\u001b[0m\u001b[0m_getitem_multilevel\u001b[0m\u001b[1;33m(\u001b[0m\u001b[0mkey\u001b[0m\u001b[1;33m)\u001b[0m\u001b[1;33m\u001b[0m\u001b[1;33m\u001b[0m\u001b[0m\n\u001b[1;32m-> 3024\u001b[1;33m             \u001b[0mindexer\u001b[0m \u001b[1;33m=\u001b[0m \u001b[0mself\u001b[0m\u001b[1;33m.\u001b[0m\u001b[0mcolumns\u001b[0m\u001b[1;33m.\u001b[0m\u001b[0mget_loc\u001b[0m\u001b[1;33m(\u001b[0m\u001b[0mkey\u001b[0m\u001b[1;33m)\u001b[0m\u001b[1;33m\u001b[0m\u001b[1;33m\u001b[0m\u001b[0m\n\u001b[0m\u001b[0;32m   3025\u001b[0m             \u001b[1;32mif\u001b[0m \u001b[0mis_integer\u001b[0m\u001b[1;33m(\u001b[0m\u001b[0mindexer\u001b[0m\u001b[1;33m)\u001b[0m\u001b[1;33m:\u001b[0m\u001b[1;33m\u001b[0m\u001b[1;33m\u001b[0m\u001b[0m\n\u001b[0;32m   3026\u001b[0m                 \u001b[0mindexer\u001b[0m \u001b[1;33m=\u001b[0m \u001b[1;33m[\u001b[0m\u001b[0mindexer\u001b[0m\u001b[1;33m]\u001b[0m\u001b[1;33m\u001b[0m\u001b[1;33m\u001b[0m\u001b[0m\n",
      "\u001b[1;32m~\\AppData\\Local\\Programs\\Python\\Python38\\lib\\site-packages\\pandas\\core\\indexes\\base.py\u001b[0m in \u001b[0;36mget_loc\u001b[1;34m(self, key, method, tolerance)\u001b[0m\n\u001b[0;32m   3080\u001b[0m                 \u001b[1;32mreturn\u001b[0m \u001b[0mself\u001b[0m\u001b[1;33m.\u001b[0m\u001b[0m_engine\u001b[0m\u001b[1;33m.\u001b[0m\u001b[0mget_loc\u001b[0m\u001b[1;33m(\u001b[0m\u001b[0mcasted_key\u001b[0m\u001b[1;33m)\u001b[0m\u001b[1;33m\u001b[0m\u001b[1;33m\u001b[0m\u001b[0m\n\u001b[0;32m   3081\u001b[0m             \u001b[1;32mexcept\u001b[0m \u001b[0mKeyError\u001b[0m \u001b[1;32mas\u001b[0m \u001b[0merr\u001b[0m\u001b[1;33m:\u001b[0m\u001b[1;33m\u001b[0m\u001b[1;33m\u001b[0m\u001b[0m\n\u001b[1;32m-> 3082\u001b[1;33m                 \u001b[1;32mraise\u001b[0m \u001b[0mKeyError\u001b[0m\u001b[1;33m(\u001b[0m\u001b[0mkey\u001b[0m\u001b[1;33m)\u001b[0m \u001b[1;32mfrom\u001b[0m \u001b[0merr\u001b[0m\u001b[1;33m\u001b[0m\u001b[1;33m\u001b[0m\u001b[0m\n\u001b[0m\u001b[0;32m   3083\u001b[0m \u001b[1;33m\u001b[0m\u001b[0m\n\u001b[0;32m   3084\u001b[0m         \u001b[1;32mif\u001b[0m \u001b[0mtolerance\u001b[0m \u001b[1;32mis\u001b[0m \u001b[1;32mnot\u001b[0m \u001b[1;32mNone\u001b[0m\u001b[1;33m:\u001b[0m\u001b[1;33m\u001b[0m\u001b[1;33m\u001b[0m\u001b[0m\n",
      "\u001b[1;31mKeyError\u001b[0m: 'betyg'"
     ]
    }
   ],
   "source": [
    "df_godkända = df[df[\"betyg\"] == \"godkänt\"]"
   ]
  },
  {
   "cell_type": "code",
   "execution_count": 21,
   "metadata": {},
   "outputs": [
    {
     "output_type": "execute_result",
     "data": {
      "text/plain": [
       "          syssels�ttning     �lder      k�n    2019\n",
       "0      f�rv�rvsarbetande  16-19 �r      m�n   58826\n",
       "1      f�rv�rvsarbetande  16-19 �r  kvinnor   72847\n",
       "2      f�rv�rvsarbetande  20-24 �r      m�n  192696\n",
       "3      f�rv�rvsarbetande  20-24 �r  kvinnor  174074\n",
       "4      f�rv�rvsarbetande  25-29 �r      m�n  293352\n",
       "5      f�rv�rvsarbetande  25-29 �r  kvinnor  268587\n",
       "6      f�rv�rvsarbetande  30-34 �r      m�n  303019\n",
       "7      f�rv�rvsarbetande  30-34 �r  kvinnor  271975\n",
       "8      f�rv�rvsarbetande  35-39 �r      m�n  280522\n",
       "9      f�rv�rvsarbetande  35-39 �r  kvinnor  255391\n",
       "10     f�rv�rvsarbetande  40-44 �r      m�n  275085\n",
       "11     f�rv�rvsarbetande  40-44 �r  kvinnor  260093\n",
       "12  ej f�rv�rvsarbetande  16-19 �r      m�n  176860\n",
       "13  ej f�rv�rvsarbetande  16-19 �r  kvinnor  143432\n",
       "14  ej f�rv�rvsarbetande  20-24 �r      m�n  117928\n",
       "15  ej f�rv�rvsarbetande  20-24 �r  kvinnor  103001\n",
       "16  ej f�rv�rvsarbetande  25-29 �r      m�n   86633\n",
       "17  ej f�rv�rvsarbetande  25-29 �r  kvinnor   91124\n",
       "18  ej f�rv�rvsarbetande  30-34 �r      m�n   64162\n",
       "19  ej f�rv�rvsarbetande  30-34 �r  kvinnor   76735\n",
       "20  ej f�rv�rvsarbetande  35-39 �r      m�n   53373\n",
       "21  ej f�rv�rvsarbetande  35-39 �r  kvinnor   61312\n",
       "22  ej f�rv�rvsarbetande  40-44 �r      m�n   46857\n",
       "23  ej f�rv�rvsarbetande  40-44 �r  kvinnor   49228"
      ],
      "text/html": "<div>\n<style scoped>\n    .dataframe tbody tr th:only-of-type {\n        vertical-align: middle;\n    }\n\n    .dataframe tbody tr th {\n        vertical-align: top;\n    }\n\n    .dataframe thead th {\n        text-align: right;\n    }\n</style>\n<table border=\"1\" class=\"dataframe\">\n  <thead>\n    <tr style=\"text-align: right;\">\n      <th></th>\n      <th>syssels�ttning</th>\n      <th>�lder</th>\n      <th>k�n</th>\n      <th>2019</th>\n    </tr>\n  </thead>\n  <tbody>\n    <tr>\n      <th>0</th>\n      <td>f�rv�rvsarbetande</td>\n      <td>16-19 �r</td>\n      <td>m�n</td>\n      <td>58826</td>\n    </tr>\n    <tr>\n      <th>1</th>\n      <td>f�rv�rvsarbetande</td>\n      <td>16-19 �r</td>\n      <td>kvinnor</td>\n      <td>72847</td>\n    </tr>\n    <tr>\n      <th>2</th>\n      <td>f�rv�rvsarbetande</td>\n      <td>20-24 �r</td>\n      <td>m�n</td>\n      <td>192696</td>\n    </tr>\n    <tr>\n      <th>3</th>\n      <td>f�rv�rvsarbetande</td>\n      <td>20-24 �r</td>\n      <td>kvinnor</td>\n      <td>174074</td>\n    </tr>\n    <tr>\n      <th>4</th>\n      <td>f�rv�rvsarbetande</td>\n      <td>25-29 �r</td>\n      <td>m�n</td>\n      <td>293352</td>\n    </tr>\n    <tr>\n      <th>5</th>\n      <td>f�rv�rvsarbetande</td>\n      <td>25-29 �r</td>\n      <td>kvinnor</td>\n      <td>268587</td>\n    </tr>\n    <tr>\n      <th>6</th>\n      <td>f�rv�rvsarbetande</td>\n      <td>30-34 �r</td>\n      <td>m�n</td>\n      <td>303019</td>\n    </tr>\n    <tr>\n      <th>7</th>\n      <td>f�rv�rvsarbetande</td>\n      <td>30-34 �r</td>\n      <td>kvinnor</td>\n      <td>271975</td>\n    </tr>\n    <tr>\n      <th>8</th>\n      <td>f�rv�rvsarbetande</td>\n      <td>35-39 �r</td>\n      <td>m�n</td>\n      <td>280522</td>\n    </tr>\n    <tr>\n      <th>9</th>\n      <td>f�rv�rvsarbetande</td>\n      <td>35-39 �r</td>\n      <td>kvinnor</td>\n      <td>255391</td>\n    </tr>\n    <tr>\n      <th>10</th>\n      <td>f�rv�rvsarbetande</td>\n      <td>40-44 �r</td>\n      <td>m�n</td>\n      <td>275085</td>\n    </tr>\n    <tr>\n      <th>11</th>\n      <td>f�rv�rvsarbetande</td>\n      <td>40-44 �r</td>\n      <td>kvinnor</td>\n      <td>260093</td>\n    </tr>\n    <tr>\n      <th>12</th>\n      <td>ej f�rv�rvsarbetande</td>\n      <td>16-19 �r</td>\n      <td>m�n</td>\n      <td>176860</td>\n    </tr>\n    <tr>\n      <th>13</th>\n      <td>ej f�rv�rvsarbetande</td>\n      <td>16-19 �r</td>\n      <td>kvinnor</td>\n      <td>143432</td>\n    </tr>\n    <tr>\n      <th>14</th>\n      <td>ej f�rv�rvsarbetande</td>\n      <td>20-24 �r</td>\n      <td>m�n</td>\n      <td>117928</td>\n    </tr>\n    <tr>\n      <th>15</th>\n      <td>ej f�rv�rvsarbetande</td>\n      <td>20-24 �r</td>\n      <td>kvinnor</td>\n      <td>103001</td>\n    </tr>\n    <tr>\n      <th>16</th>\n      <td>ej f�rv�rvsarbetande</td>\n      <td>25-29 �r</td>\n      <td>m�n</td>\n      <td>86633</td>\n    </tr>\n    <tr>\n      <th>17</th>\n      <td>ej f�rv�rvsarbetande</td>\n      <td>25-29 �r</td>\n      <td>kvinnor</td>\n      <td>91124</td>\n    </tr>\n    <tr>\n      <th>18</th>\n      <td>ej f�rv�rvsarbetande</td>\n      <td>30-34 �r</td>\n      <td>m�n</td>\n      <td>64162</td>\n    </tr>\n    <tr>\n      <th>19</th>\n      <td>ej f�rv�rvsarbetande</td>\n      <td>30-34 �r</td>\n      <td>kvinnor</td>\n      <td>76735</td>\n    </tr>\n    <tr>\n      <th>20</th>\n      <td>ej f�rv�rvsarbetande</td>\n      <td>35-39 �r</td>\n      <td>m�n</td>\n      <td>53373</td>\n    </tr>\n    <tr>\n      <th>21</th>\n      <td>ej f�rv�rvsarbetande</td>\n      <td>35-39 �r</td>\n      <td>kvinnor</td>\n      <td>61312</td>\n    </tr>\n    <tr>\n      <th>22</th>\n      <td>ej f�rv�rvsarbetande</td>\n      <td>40-44 �r</td>\n      <td>m�n</td>\n      <td>46857</td>\n    </tr>\n    <tr>\n      <th>23</th>\n      <td>ej f�rv�rvsarbetande</td>\n      <td>40-44 �r</td>\n      <td>kvinnor</td>\n      <td>49228</td>\n    </tr>\n  </tbody>\n</table>\n</div>"
     },
     "metadata": {},
     "execution_count": 21
    }
   ],
   "source": [
    "import pandas as pd\n",
    "import numpy as np\n",
    "import matplotlib.pyplot as plt\n",
    "\n",
    "df = pd.read_csv(\"sysselsattning.csv\", encoding=\"UTF-8\", header=1)\n",
    "\n",
    "df"
   ]
  },
  {
   "cell_type": "code",
   "execution_count": null,
   "metadata": {},
   "outputs": [],
   "source": []
  }
 ]
}
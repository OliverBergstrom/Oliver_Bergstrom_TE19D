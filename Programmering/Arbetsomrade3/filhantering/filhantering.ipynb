{
 "metadata": {
  "language_info": {
   "codemirror_mode": {
    "name": "ipython",
    "version": 3
   },
   "file_extension": ".py",
   "mimetype": "text/x-python",
   "name": "python",
   "nbconvert_exporter": "python",
   "pygments_lexer": "ipython3",
   "version": "3.9.2-final"
  },
  "orig_nbformat": 2,
  "kernelspec": {
   "name": "python3",
   "display_name": "Python 3.9.2 64-bit",
   "metadata": {
    "interpreter": {
     "hash": "883188e7567dda8caa2d9cc18fdcbe7bf170d9ce770743077b8b9ca16d512fc1"
    }
   }
  }
 },
 "nbformat": 4,
 "nbformat_minor": 2,
 "cells": [
  {
   "cell_type": "code",
   "execution_count": 5,
   "metadata": {},
   "outputs": [
    {
     "output_type": "stream",
     "name": "stdout",
     "text": [
      "Följande forskare var födda före 1800-talet\nIsaac Newton\nGallileo Gallilei\nLeonhard Euler\nCarl Friedrich Gauss\n"
     ]
    }
   ],
   "source": [
    "före1800 = []\n",
    "with open(\"Stora_forskare.txt\", \"r\") as f1:\n",
    "    for rad in f1:\n",
    "        #print(rad, end=\"\")\n",
    "        rad = rad.strip(\" \\n\") # slänger alla blanksteg och nyrad i slutet och i början av varje rad\n",
    "        #print(rad, end=\"\")\n",
    "\n",
    "        #print(rad[-1:-10])\n",
    "        år = int(rad[-10:-6]) # typomvandlar årtalet till heltal\n",
    "        if år < 1800:\n",
    "            före1800.append(rad[:-11])\n",
    "\n",
    "print(\"Följande forskare var födda före 1800-talet\")\n",
    "for person in före1800:\n",
    "    print(person)\n",
    "\n"
   ]
  },
  {
   "source": [
    "## skriva till en fil"
   ],
   "cell_type": "markdown",
   "metadata": {}
  },
  {
   "cell_type": "code",
   "execution_count": 6,
   "metadata": {},
   "outputs": [],
   "source": [
    "with open(\"Stora_forskare.txt\", \"r\") as f1, open(\"Stora_forskare.txt\", \"w\") as f2:\n",
    "    for rad in f1:\n",
    "        rad = rad.strip(\" \")\n",
    "        f2.write(rad)\n",
    "        \n",
    "    f2.write(\"Andrew Wiles 1953-04-11\\n\")"
   ]
  },
  {
   "cell_type": "code",
   "execution_count": null,
   "metadata": {},
   "outputs": [],
   "source": [
    "with open(\"Stora_forskare2.txt\", \"w\") as f1:\n",
    "    f1.write(\"Marie Curie 1867-11-07\\n\") # skriver över vår gamla fil"
   ]
  },
  {
   "cell_type": "code",
   "execution_count": null,
   "metadata": {},
   "outputs": [],
   "source": [
    "with open(\"Stora_forskare2.txt\", \"a\") as f1: # option: append, lägger till och sparar\n",
    "    f1.write(\"Albert Einstein 1879-03-14\\n\")"
   ]
  },
  {
   "cell_type": "code",
   "execution_count": 9,
   "metadata": {},
   "outputs": [
    {
     "output_type": "stream",
     "name": "stdout",
     "text": [
      "[6, 4, 3, 2, 5, 4, 6, 5, 3, 1, 1]\n[1, 1, 2, 3, 3, 4, 4, 5, 5, 6, 6]\nantal femmor: 2\n"
     ]
    }
   ],
   "source": [
    "# 1\n",
    "\n",
    "import random as rnd\n",
    "\n",
    "kast = []\n",
    "sorterad = []\n",
    "fem = 0\n",
    "\n",
    "with open(\"diceRoll.txt\", \"w\") as f2:\n",
    "    for i in range(11):\n",
    "        tärning = (rnd.randint(1,6))\n",
    "        kast.append(tärning)\n",
    "        sorterad = sorted(kast)\n",
    "        if tärning == 5:\n",
    "            fem += 1\n",
    "        # print(tärning, end=\" \")\n",
    "    f2.write(f\"{kast} \")\n",
    "    f2.write(f\"{sorterad} \")\n",
    "    print(kast)\n",
    "    print(sorterad)\n",
    "    print(f\"antal femmor: {fem}\")"
   ]
  },
  {
   "cell_type": "code",
   "execution_count": 48,
   "metadata": {},
   "outputs": [
    {
     "output_type": "stream",
     "name": "stdout",
     "text": [
      "['Adam Gustafsson 25', 'BjÃ¶rn BjÃ¶rnsson 39', 'Bose Bosseson 32', 'Ella Ester 41', 'Emil Johansson 23', 'Emma Boden 32', 'Erik Eriksson 31', 'Fredrika Ulven 10', 'Gore Bord 55', 'Hanna Karlsson 23 ', 'HÃ¥kan HÃ¥kanson 24', 'Ida HÃ¥kansson 23', 'Jakob Kallander 65', 'Johan Johansson 42', 'Jonas Jonasson 31', 'Karl Karlsson 32', 'Ove Karlsten 41', 'Sven Erik Karlsson 13', 'Sven Erik Lundin 39']\n"
     ]
    }
   ],
   "source": [
    "# 2\n",
    "\n",
    "sorterad = []\n",
    "\n",
    "with open(\"Provresultat.txt\", \"r+\") as f1:\n",
    "    for rad in f1:\n",
    "        rad = rad.strip(\"\\n\")\n",
    "        sorterad.append(rad)\n",
    "    sorterad.sort()\n",
    "    print(sorterad)\n"
   ]
  },
  {
   "cell_type": "code",
   "execution_count": 53,
   "metadata": {},
   "outputs": [
    {
     "output_type": "stream",
     "name": "stdout",
     "text": [
      "{'F': [['Sven', 'Erik', 'Karlsson', '13'], ['Fredrika', 'Ulven', '10']], 'E': [['Adam', 'Gustafsson', '25'], ['Emil', 'Johansson', '23'], ['Ida', 'HÃ¥kansson', '23'], ['Hanna', 'Karlsson', '23'], ['HÃ¥kan', 'HÃ¥kanson', '24']], 'D': [['Emma', 'Boden', '32'], ['Sven', 'Erik', 'Lundin', '39'], ['BjÃ¶rn', 'BjÃ¶rnsson', '39'], ['Karl', 'Karlsson', '32'], ['Bose', 'Bosseson', '32'], ['Jonas', 'Jonasson', '31'], ['Erik', 'Eriksson', '31']], 'C': [['Ove', 'Karlsten', '41'], ['Ella', 'Ester', '41'], ['Johan', 'Johansson', '42']], 'B': [['Gore', 'Bord', '55']], 'A': [['Jakob', 'Kallander', '65']]}\n\n"
     ]
    }
   ],
   "source": [
    "# 2 c\n",
    "\n",
    "sorterad = []\n",
    "\n",
    "betyg = {\n",
    "            \"F\": [],\n",
    "            \"E\": [],\n",
    "            \"D\": [],\n",
    "            \"C\": [],\n",
    "            \"B\": [],\n",
    "            \"A\": []\n",
    "        }\n",
    "\n",
    "with open(\"Provresultat.txt\", \"r+\") as f1:\n",
    "    for rad in f1:\n",
    "        rad = rad.strip(\" \\n\")\n",
    "        sorterad.append(rad)\n",
    "        rad = rad.split(\" \")\n",
    "        if int(rad[-1]) < 20:\n",
    "            betyg[\"F\"].append(rad)\n",
    "        elif int(rad[-1]) >= 20 and int(rad[-1])< 30:\n",
    "            betyg[\"E\"].append(rad)\n",
    "        elif int(rad[-1]) >= 30 and int(rad[-1]) < 40:\n",
    "            betyg[\"D\"].append(rad)\n",
    "        elif int(rad[-1]) >= 40 and int(rad[-1]) < 50:\n",
    "            betyg[\"C\"].append(rad)\n",
    "        elif int(rad[-1]) >= 50 and int(rad[-1]) < 60:\n",
    "            betyg[\"B\"].append(rad)\n",
    "        elif int(rad[-1]) >= 60 and int(rad[-1]) < 70:\n",
    "            betyg[\"A\"].append(rad)\n",
    "\n",
    "\n",
    "    print(f\"{betyg}\")\n",
    "        "
   ]
  },
  {
   "cell_type": "code",
   "execution_count": null,
   "metadata": {},
   "outputs": [],
   "source": [
    "import matplotlib.pyploy as plt\n",
    "\n"
   ]
  }
 ]
}
{
 "metadata": {
  "language_info": {
   "codemirror_mode": {
    "name": "ipython",
    "version": 3
   },
   "file_extension": ".py",
   "mimetype": "text/x-python",
   "name": "python",
   "nbconvert_exporter": "python",
   "pygments_lexer": "ipython3",
   "version": "3.8.6-final"
  },
  "orig_nbformat": 2,
  "kernelspec": {
   "name": "python3",
   "display_name": "Python 3.8.6 64-bit",
   "metadata": {
    "interpreter": {
     "hash": "d921abd2cbb9bd0040e97c6895a8599e7160450e7542ca56fa0dccfebd697a77"
    }
   }
  }
 },
 "nbformat": 4,
 "nbformat_minor": 2,
 "cells": [
  {
   "cell_type": "code",
   "execution_count": 5,
   "metadata": {},
   "outputs": [
    {
     "output_type": "stream",
     "name": "stdout",
     "text": [
      "Följande forskare var födda före 1800-talet\nIsaac Newton\nGallileo Gallilei\nLeonhard Euler\nCarl Friedrich Gauss\n"
     ]
    }
   ],
   "source": [
    "före1800 = []\n",
    "with open(\"Stora_forskare.txt\", \"r\") as f1:\n",
    "    for rad in f1:\n",
    "        #print(rad, end=\"\")\n",
    "        rad = rad.strip(\" \\n\") # slänger alla blanksteg och nyrad i slutet och i början av varje rad\n",
    "        #print(rad, end=\"\")\n",
    "\n",
    "        #print(rad[-1:-10])\n",
    "        år = int(rad[-10:-6]) # typomvandlar årtalet till heltal\n",
    "        if år < 1800:\n",
    "            före1800.append(rad[:-11])\n",
    "\n",
    "print(\"Följande forskare var födda före 1800-talet\")\n",
    "for person in före1800:\n",
    "    print(person)\n",
    "\n"
   ]
  },
  {
   "source": [
    "## skriva till en fil"
   ],
   "cell_type": "markdown",
   "metadata": {}
  },
  {
   "cell_type": "code",
   "execution_count": 6,
   "metadata": {},
   "outputs": [],
   "source": [
    "with open(\"Stora_forskare.txt\", \"r\") as f1, open(\"Stora_forskare.txt\", \"w\") as f2:\n",
    "    for rad in f1:\n",
    "        rad = rad.strip(\" \")\n",
    "        f2.write(rad)\n",
    "        \n",
    "    f2.write(\"Andrew Wiles 1953-04-11\\n\")"
   ]
  },
  {
   "cell_type": "code",
   "execution_count": null,
   "metadata": {},
   "outputs": [],
   "source": [
    "with open(\"Stora_forskare2.txt\", \"w\") as f1:\n",
    "    f1.write(\"Marie Curie 1867-11-07\\n\") # skriver över vår gamla fil"
   ]
  },
  {
   "cell_type": "code",
   "execution_count": null,
   "metadata": {},
   "outputs": [],
   "source": [
    "with open(\"Stora_forskare2.txt\", \"a\") as f1: # option: append, lägger till och sparar\n",
    "    f1.write(\"Albert Einstein 1879-03-14\\n\")"
   ]
  },
  {
   "cell_type": "code",
   "execution_count": 47,
   "metadata": {},
   "outputs": [
    {
     "output_type": "stream",
     "name": "stdout",
     "text": [
      "1 1 2 2 1 1 2 5 4 1 1 "
     ]
    },
    {
     "output_type": "error",
     "ename": "TypeError",
     "evalue": "'list' object is not callable",
     "traceback": [
      "\u001b[1;31m---------------------------------------------------------------------------\u001b[0m",
      "\u001b[1;31mTypeError\u001b[0m                                 Traceback (most recent call last)",
      "\u001b[1;32m<ipython-input-47-465cba4293ab>\u001b[0m in \u001b[0;36m<module>\u001b[1;34m\u001b[0m\n\u001b[0;32m     13\u001b[0m         \u001b[0msorterad\u001b[0m \u001b[1;33m=\u001b[0m \u001b[0msorted\u001b[0m\u001b[1;33m(\u001b[0m\u001b[0mkast\u001b[0m\u001b[1;33m)\u001b[0m\u001b[1;33m\u001b[0m\u001b[1;33m\u001b[0m\u001b[0m\n\u001b[0;32m     14\u001b[0m         \u001b[0mprint\u001b[0m\u001b[1;33m(\u001b[0m\u001b[0mtärning\u001b[0m\u001b[1;33m,\u001b[0m \u001b[0mend\u001b[0m\u001b[1;33m=\u001b[0m\u001b[1;34m\" \"\u001b[0m\u001b[1;33m)\u001b[0m\u001b[1;33m\u001b[0m\u001b[1;33m\u001b[0m\u001b[0m\n\u001b[1;32m---> 15\u001b[1;33m     \u001b[1;32mif\u001b[0m \u001b[0mkast\u001b[0m\u001b[1;33m(\u001b[0m\u001b[1;36m5\u001b[0m\u001b[1;33m)\u001b[0m\u001b[1;33m:\u001b[0m\u001b[1;33m\u001b[0m\u001b[1;33m\u001b[0m\u001b[0m\n\u001b[0m\u001b[0;32m     16\u001b[0m         \u001b[0mfemmor\u001b[0m \u001b[1;33m+\u001b[0m \u001b[1;36m1\u001b[0m\u001b[1;33m\u001b[0m\u001b[1;33m\u001b[0m\u001b[0m\n\u001b[0;32m     17\u001b[0m     \u001b[0mf2\u001b[0m\u001b[1;33m.\u001b[0m\u001b[0mwrite\u001b[0m\u001b[1;33m(\u001b[0m\u001b[1;34mf\"{kast} \"\u001b[0m\u001b[1;33m)\u001b[0m\u001b[1;33m\u001b[0m\u001b[1;33m\u001b[0m\u001b[0m\n",
      "\u001b[1;31mTypeError\u001b[0m: 'list' object is not callable"
     ]
    }
   ],
   "source": [
    "# 1\n",
    "\n",
    "import random as rnd\n",
    "\n",
    "kast = []\n",
    "sorterad = []\n",
    "\n",
    "with open(\"diceRoll.txt\", \"w\") as f2:\n",
    "    for i in range(11):\n",
    "        tärning = (rnd.randint(1,6))\n",
    "        kast.append(tärning)\n",
    "        sorterad = sorted(kast)\n",
    "        print(tärning, end=\" \")\n",
    "    f2.write(f\"{kast} \")\n",
    "    f2.write(f\"{sorterad} \")\n",
    "\n",
    "    "
   ]
  },
  {
   "cell_type": "code",
   "execution_count": null,
   "metadata": {},
   "outputs": [],
   "source": []
  }
 ]
}
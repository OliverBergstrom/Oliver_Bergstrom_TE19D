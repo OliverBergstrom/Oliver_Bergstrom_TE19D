{
 "metadata": {
  "language_info": {
   "codemirror_mode": {
    "name": "ipython",
    "version": 3
   },
   "file_extension": ".py",
   "mimetype": "text/x-python",
   "name": "python",
   "nbconvert_exporter": "python",
   "pygments_lexer": "ipython3",
   "version": "3.8.6-final"
  },
  "orig_nbformat": 2,
  "kernelspec": {
   "name": "python3",
   "display_name": "Python 3.8.6 64-bit",
   "metadata": {
    "interpreter": {
     "hash": "d921abd2cbb9bd0040e97c6895a8599e7160450e7542ca56fa0dccfebd697a77"
    }
   }
  }
 },
 "nbformat": 4,
 "nbformat_minor": 2,
 "cells": [
  {
   "cell_type": "code",
   "execution_count": 5,
   "metadata": {},
   "outputs": [
    {
     "output_type": "stream",
     "name": "stdout",
     "text": [
      "Följande forskare var födda före 1800-talet\nIsaac Newton\nGallileo Gallilei\nLeonhard Euler\nCarl Friedrich Gauss\n"
     ]
    }
   ],
   "source": [
    "före1800 = []\n",
    "with open(\"Stora_forskare.txt\", \"r\") as f1:\n",
    "    for rad in f1:\n",
    "        #print(rad, end=\"\")\n",
    "        rad = rad.strip(\" \\n\") # slänger alla blanksteg och nyrad i slutet och i början av varje rad\n",
    "        #print(rad, end=\"\")\n",
    "\n",
    "        #print(rad[-1:-10])\n",
    "        år = int(rad[-10:-6]) # typomvandlar årtalet till heltal\n",
    "        if år < 1800:\n",
    "            före1800.append(rad[:-11])\n",
    "\n",
    "print(\"Följande forskare var födda före 1800-talet\")\n",
    "for person in före1800:\n",
    "    print(person)\n",
    "\n"
   ]
  },
  {
   "source": [
    "## skriva till en fil"
   ],
   "cell_type": "markdown",
   "metadata": {}
  },
  {
   "cell_type": "code",
   "execution_count": 6,
   "metadata": {},
   "outputs": [],
   "source": [
    "with open(\"Stora_forskare.txt\", \"r\") as f1, open(\"Stora_forskare.txt\", \"w\") as f2:\n",
    "    for rad in f1:\n",
    "        rad = rad.strip(\" \")\n",
    "        f2.write(rad)\n",
    "        \n",
    "    f2.write(\"Andrew Wiles 1953-04-11\\n\")"
   ]
  },
  {
   "cell_type": "code",
   "execution_count": null,
   "metadata": {},
   "outputs": [],
   "source": [
    "with open(\"Stora_forskare2.txt\", \"w\") as f1:\n",
    "    f1.write(\"Marie Curie 1867-11-07\\n\") # skriver över vår gamla fil"
   ]
  },
  {
   "cell_type": "code",
   "execution_count": null,
   "metadata": {},
   "outputs": [],
   "source": [
    "with open(\"Stora_forskare2.txt\", \"a\") as f1: # option: append, lägger till och sparar\n",
    "    f1.write(\"Albert Einstein 1879-03-14\\n\")"
   ]
  },
  {
   "cell_type": "code",
   "execution_count": 9,
   "metadata": {},
   "outputs": [
    {
     "output_type": "stream",
     "name": "stdout",
     "text": [
      "[6, 4, 3, 2, 5, 4, 6, 5, 3, 1, 1]\n[1, 1, 2, 3, 3, 4, 4, 5, 5, 6, 6]\nantal femmor: 2\n"
     ]
    }
   ],
   "source": [
    "# 1\n",
    "\n",
    "import random as rnd\n",
    "\n",
    "kast = []\n",
    "sorterad = []\n",
    "fem = 0\n",
    "\n",
    "with open(\"diceRoll.txt\", \"w\") as f2:\n",
    "    for i in range(11):\n",
    "        tärning = (rnd.randint(1,6))\n",
    "        kast.append(tärning)\n",
    "        sorterad = sorted(kast)\n",
    "        if tärning == 5:\n",
    "            fem += 1\n",
    "        # print(tärning, end=\" \")\n",
    "    f2.write(f\"{kast} \")\n",
    "    f2.write(f\"{sorterad} \")\n",
    "    print(kast)\n",
    "    print(sorterad)\n",
    "    print(f\"antal femmor: {fem}\")"
   ]
  },
  {
   "cell_type": "code",
   "execution_count": 57,
   "metadata": {},
   "outputs": [
    {
     "output_type": "stream",
     "name": "stdout",
     "text": [
      "Emil Johansson 23\nSven Erik Karlsson 13\nOve Karlsten 41\nEmma Boden 32\nIda HÃ¥kansson 23\nElla Ester 41\nHanna Karlsson 23 \nJohan Johansson 42\nSven Erik Lundin 39\nBjÃ¶rn BjÃ¶rnsson 39\nKarl Karlsson 32\nBose Bosseson 32\nHÃ¥kan HÃ¥kanson 24\nJonas Jonasson 31\nErik Eriksson 31\nGore Bord 55\nJakob Kallander 65\nFredrika Ulven 10\n"
     ]
    }
   ],
   "source": [
    "# 2\n",
    "\n",
    "sorterad = []\n",
    "\n",
    "with open(\"Provresultat.txt\", \"r\") as f1:\n",
    "    for rad in f1:\n",
    "        print(f1.read())\n",
    "        sorterad = sorted(f1)"
   ]
  },
  {
   "cell_type": "code",
   "execution_count": null,
   "metadata": {},
   "outputs": [],
   "source": []
  }
 ]
}
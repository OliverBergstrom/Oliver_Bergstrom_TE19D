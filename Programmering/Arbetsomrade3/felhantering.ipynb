{
 "metadata": {
  "language_info": {
   "codemirror_mode": {
    "name": "ipython",
    "version": 3
   },
   "file_extension": ".py",
   "mimetype": "text/x-python",
   "name": "python",
   "nbconvert_exporter": "python",
   "pygments_lexer": "ipython3",
   "version": "3.8.3-final"
  },
  "orig_nbformat": 2,
  "kernelspec": {
   "name": "python3",
   "display_name": "Python 3",
   "language": "python"
  }
 },
 "nbformat": 4,
 "nbformat_minor": 2,
 "cells": [
  {
   "cell_type": "code",
   "execution_count": 12,
   "metadata": {},
   "outputs": [
    {
     "output_type": "stream",
     "name": "stdout",
     "text": [
      "ålder ska vara ett heltal\n",
      "Du är vuxen\n"
     ]
    }
   ],
   "source": [
    "\n",
    "while True:\n",
    "    try:\n",
    "        ålder = int(input(\"Hur gammal är du?\"))\n",
    "        # hanterat logiska felet\n",
    "        assert ålder >= 0 and ålder < 125, \"Din ålder ska vara mellan 0 och 124\" # AssertionError\n",
    "        break # hoppar ut från while-satsen\n",
    "    except AssertionError as msg: \n",
    "        print(msg)\n",
    "    except:\n",
    "        print(\"ålder ska vara ett heltal\")\n",
    "\n",
    "if ålder >= 18:\n",
    "    print(\"Du är vuxen\")\n",
    "else:\n",
    "    print(\"Du är barn\")"
   ]
  },
  {
   "source": [
    "# typer av fel\n",
    "- syntaxfel - språkregler följs inte. Felet märks innan exekvering\n",
    "- exekveringsfel - sker under körning av programmet\n",
    "- logiska fel - \"felaktig lösning av problemet\". svåra att lösa"
   ],
   "cell_type": "markdown",
   "metadata": {}
  },
  {
   "cell_type": "code",
   "execution_count": 19,
   "metadata": {},
   "outputs": [
    {
     "output_type": "stream",
     "name": "stdout",
     "text": [
      "1.0\n"
     ]
    }
   ],
   "source": [
    "# uppgift 1\n",
    "\n",
    "import numpy as np # import saknar ett t\n",
    "\n",
    "def distance(p1, p2) :\n",
    "    return np.sqrt(p1+p2) # det ska stå return\n",
    "\n",
    "print(distance(0.5,0.5)) # inga brackes >:("
   ]
  },
  {
   "cell_type": "code",
   "execution_count": 1,
   "metadata": {},
   "outputs": [
    {
     "output_type": "stream",
     "name": "stdout",
     "text": [
      "100 är fyrsiffrigt\n231 är fyrsiffrigt\n10000 är inte fyrsiffrigt\n10001 är inte fyrsiffrigt\n-1000 är fyrsiffrigt\n102313 är inte fyrsiffrigt\n"
     ]
    }
   ],
   "source": [
    "# uppgift 2\n",
    "\n",
    "def ar_fyrsirigt(tal): # stavfel där nere därav stavfel här uppe :)\n",
    "    if tal/1000 < 10 : # bara ett slash\n",
    "        return True\n",
    "    else:\n",
    "        return False\n",
    "    \n",
    "# testprogram\n",
    "testtal = [100, 231, 10000, 10001, -1000, 102313]\n",
    "\n",
    "for t in testtal:\n",
    "    if ar_fyrsirigt(t): \n",
    "        print(f\"{t} är fyrsiffrigt\")\n",
    "    else:\n",
    "        print(f\"{t} är inte fyrsiffrigt\")"
   ]
  },
  {
   "cell_type": "code",
   "execution_count": 18,
   "metadata": {},
   "outputs": [
    {
     "output_type": "stream",
     "name": "stdout",
     "text": [
      "Engångsbiljetter är bättre :)\n"
     ]
    }
   ],
   "source": [
    "# uppgift 3\n",
    "\n",
    "engång = 34\n",
    "\n",
    "månad = 795\n",
    "\n",
    "while True:    \n",
    "    try: \n",
    "        turer = int(input(\"Hur många gånger åker du?\"))\n",
    "        assert turer >= 0, \"Kan inte vara under 0\"\n",
    "        break\n",
    "    except AssertionError as msg:\n",
    "        print(msg)\n",
    "    except:\n",
    "        print(\"Antalet måste vara ett heltal och inte en sträng\")\n",
    "    \n",
    "if turer * engång >= månad:\n",
    "    print(\"Du borde skaffa ett månadskort\")\n",
    "else:\n",
    "    print(\"Engångsbiljetter är bättre :)\")\n",
    "\n"
   ]
  },
  {
   "cell_type": "code",
   "execution_count": null,
   "metadata": {},
   "outputs": [],
   "source": []
  }
 ]
}
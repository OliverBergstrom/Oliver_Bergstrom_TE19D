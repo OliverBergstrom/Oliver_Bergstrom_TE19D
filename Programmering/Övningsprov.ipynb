{
 "metadata": {
  "language_info": {
   "codemirror_mode": {
    "name": "ipython",
    "version": 3
   },
   "file_extension": ".py",
   "mimetype": "text/x-python",
   "name": "python",
   "nbconvert_exporter": "python",
   "pygments_lexer": "ipython3",
   "version": "3.8.3-final"
  },
  "orig_nbformat": 2,
  "kernelspec": {
   "name": "python3",
   "display_name": "Python 3",
   "language": "python"
  }
 },
 "nbformat": 4,
 "nbformat_minor": 2,
 "cells": [
  {
   "cell_type": "code",
   "execution_count": 5,
   "metadata": {},
   "outputs": [
    {
     "output_type": "stream",
     "name": "stdout",
     "text": [
      "År 1: antal fåglar: 4000\nÅr 2: antal fåglar: 2000\nÅr 3: antal fåglar: 1000\nÅr 4: antal fåglar: 500\n"
     ]
    }
   ],
   "source": [
    "# 1\n",
    "\n",
    "birds = 8000 # startvärde för fåglar\n",
    "year = 0\n",
    "while birds > 800: # medans fåglarna är ovan\n",
    "    year += 1 # ökas per år\n",
    "    birds /= 2 # delas på två\n",
    "    print(f\"År {year}: antal fåglar: {birds:.0f}\")"
   ]
  },
  {
   "cell_type": "code",
   "execution_count": 7,
   "metadata": {},
   "outputs": [
    {
     "output_type": "error",
     "ename": "TypeError",
     "evalue": "unsupported operand type(s) for ** or pow(): 'list' and 'int'",
     "traceback": [
      "\u001b[1;31m---------------------------------------------------------------------------\u001b[0m",
      "\u001b[1;31mTypeError\u001b[0m                                 Traceback (most recent call last)",
      "\u001b[1;32m<ipython-input-7-e0b4125b0cde>\u001b[0m in \u001b[0;36m<module>\u001b[1;34m\u001b[0m\n\u001b[0;32m      9\u001b[0m \u001b[1;33m\u001b[0m\u001b[0m\n\u001b[0;32m     10\u001b[0m \u001b[0mx\u001b[0m \u001b[1;33m=\u001b[0m \u001b[1;33m[\u001b[0m\u001b[0mi\u001b[0m \u001b[1;32mfor\u001b[0m \u001b[0mi\u001b[0m \u001b[1;32min\u001b[0m \u001b[0mrange\u001b[0m\u001b[1;33m(\u001b[0m\u001b[1;36m10\u001b[0m\u001b[1;33m)\u001b[0m\u001b[1;33m]\u001b[0m\u001b[1;33m\u001b[0m\u001b[1;33m\u001b[0m\u001b[0m\n\u001b[1;32m---> 11\u001b[1;33m \u001b[0mplt\u001b[0m\u001b[1;33m.\u001b[0m\u001b[0mplot\u001b[0m\u001b[1;33m(\u001b[0m\u001b[0mx\u001b[0m\u001b[1;33m,\u001b[0m\u001b[0mf\u001b[0m\u001b[1;33m(\u001b[0m\u001b[0mx\u001b[0m\u001b[1;33m)\u001b[0m\u001b[1;33m)\u001b[0m\u001b[1;33m\u001b[0m\u001b[1;33m\u001b[0m\u001b[0m\n\u001b[0m\u001b[0;32m     12\u001b[0m \u001b[0mplt\u001b[0m\u001b[1;33m.\u001b[0m\u001b[0mxlabel\u001b[0m\u001b[1;33m(\u001b[0m\u001b[1;34m\"x\"\u001b[0m\u001b[1;33m)\u001b[0m\u001b[1;33m\u001b[0m\u001b[1;33m\u001b[0m\u001b[0m\n\u001b[0;32m     13\u001b[0m \u001b[0mplt\u001b[0m\u001b[1;33m.\u001b[0m\u001b[0mylabel\u001b[0m\u001b[1;33m(\u001b[0m\u001b[1;34m\"y\"\u001b[0m\u001b[1;33m)\u001b[0m\u001b[1;33m\u001b[0m\u001b[1;33m\u001b[0m\u001b[0m\n",
      "\u001b[1;32m<ipython-input-7-e0b4125b0cde>\u001b[0m in \u001b[0;36mf\u001b[1;34m(x)\u001b[0m\n\u001b[0;32m      6\u001b[0m \u001b[1;33m\u001b[0m\u001b[0m\n\u001b[0;32m      7\u001b[0m \u001b[1;32mdef\u001b[0m \u001b[0mf\u001b[0m\u001b[1;33m(\u001b[0m\u001b[0mx\u001b[0m\u001b[1;33m)\u001b[0m\u001b[1;33m:\u001b[0m \u001b[1;31m# x är lika med det nedan\u001b[0m\u001b[1;33m\u001b[0m\u001b[1;33m\u001b[0m\u001b[0m\n\u001b[1;32m----> 8\u001b[1;33m     \u001b[1;32mreturn\u001b[0m \u001b[0mx\u001b[0m\u001b[1;33m**\u001b[0m\u001b[1;36m2\u001b[0m \u001b[1;33m-\u001b[0m \u001b[1;36m3\u001b[0m\u001b[1;33m*\u001b[0m\u001b[0mx\u001b[0m \u001b[1;33m+\u001b[0m \u001b[1;36m1\u001b[0m\u001b[1;33m\u001b[0m\u001b[1;33m\u001b[0m\u001b[0m\n\u001b[0m\u001b[0;32m      9\u001b[0m \u001b[1;33m\u001b[0m\u001b[0m\n\u001b[0;32m     10\u001b[0m \u001b[0mx\u001b[0m \u001b[1;33m=\u001b[0m \u001b[1;33m[\u001b[0m\u001b[0mi\u001b[0m \u001b[1;32mfor\u001b[0m \u001b[0mi\u001b[0m \u001b[1;32min\u001b[0m \u001b[0mrange\u001b[0m\u001b[1;33m(\u001b[0m\u001b[1;36m10\u001b[0m\u001b[1;33m)\u001b[0m\u001b[1;33m]\u001b[0m\u001b[1;33m\u001b[0m\u001b[1;33m\u001b[0m\u001b[0m\n",
      "\u001b[1;31mTypeError\u001b[0m: unsupported operand type(s) for ** or pow(): 'list' and 'int'"
     ]
    }
   ],
   "source": [
    "# 2\n",
    "\n",
    "# visar en graf\n",
    "\n",
    "import matplotlib.pyplot as plt # importerar kod och har plt som förkortning\n",
    "\n",
    "def f(x): # x är lika med det nedan\n",
    "    return x**2 - 3*x + 1\n",
    "\n",
    "x = [i for i in range(10)]\n",
    "plt.plot(x,f(x))\n",
    "plt.xlabel(\"x\")\n",
    "plt.ylabel(\"y\")\n",
    "plt.show\n"
   ]
  },
  {
   "cell_type": "code",
   "execution_count": 4,
   "metadata": {},
   "outputs": [
    {
     "output_type": "stream",
     "name": "stdout",
     "text": [
      "3.0\n"
     ]
    }
   ],
   "source": [
    "# 3\n",
    "\n",
    "def medelvärde(a,b,c): # x är en inparameter\n",
    "    medel = (a+b+c)/3\n",
    "    return medel\n",
    "\n",
    "resultat = medelvärde(1,3,5)\n",
    "\n",
    "print(f\"{resultat}\")"
   ]
  },
  {
   "cell_type": "code",
   "execution_count": 6,
   "metadata": {},
   "outputs": [
    {
     "output_type": "stream",
     "name": "stdout",
     "text": [
      "113.04\n"
     ]
    }
   ],
   "source": [
    "# 4\n",
    "\n",
    "r = float(input(\"skriv din radie\"))\n",
    "\n",
    "def radie(r):\n",
    "    klot = (3.14 * 4 * r**3)/3\n",
    "    return klot\n",
    "\n",
    "volym = radie(r)\n",
    "\n",
    "print(f\"{volym}\")"
   ]
  },
  {
   "cell_type": "code",
   "execution_count": 4,
   "metadata": {},
   "outputs": [
    {
     "output_type": "stream",
     "name": "stdout",
     "text": [
      "Antalet ord i Jag cyklar i motvind är: 4\n"
     ]
    }
   ],
   "source": [
    "# 5\n",
    "\n",
    "mening = input(\"Skriv din mening här tack\")\n",
    "\n",
    "antal_ord = mening.split(\" \")\n",
    "\n",
    "antal_ord = len(antal_ord)\n",
    "\n",
    "print(f\"Antalet ord i {mening} är: {antal_ord}\")"
   ]
  },
  {
   "cell_type": "code",
   "execution_count": 12,
   "metadata": {
    "tags": []
   },
   "outputs": [
    {
     "output_type": "stream",
     "name": "stdout",
     "text": [
      "4 * 10\n",
      "Rätt svar! Fantastiskt jobbat, dude!\n"
     ]
    }
   ],
   "source": [
    "# 6\n",
    "\n",
    "import random as rnd\n",
    "\n",
    "while True:\n",
    "    spela = input(\"Vill du inte vara helt värdelös på multiplikation? (j för ja, annan tangent för nej)\")\n",
    "\n",
    "    if spela != \"j\":\n",
    "       break\n",
    "\n",
    "\n",
    "    tal1 = rnd.randint(1,10)\n",
    "\n",
    "    tal2 = rnd.randint(1,10)\n",
    "\n",
    "    print(f\"{tal1} * {tal2}\")\n",
    "\n",
    "    tal3 = tal1*tal2\n",
    "\n",
    "    svar = int(input(\"Skriv ditt svar\"))\n",
    "\n",
    "    if svar == tal1*tal2:\n",
    "        print(\"Rätt svar! Fantastiskt jobbat, dude!\")\n",
    "    else:\n",
    "        print(f\"Fel svar, rätt svar är {tal3}\")\n",
    "\n",
    "\n",
    "\n"
   ]
  },
  {
   "cell_type": "code",
   "execution_count": null,
   "metadata": {},
   "outputs": [],
   "source": []
  }
 ]
}
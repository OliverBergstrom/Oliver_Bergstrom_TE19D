{
 "metadata": {
  "language_info": {
   "codemirror_mode": {
    "name": "ipython",
    "version": 3
   },
   "file_extension": ".py",
   "mimetype": "text/x-python",
   "name": "python",
   "nbconvert_exporter": "python",
   "pygments_lexer": "ipython3",
   "version": "3.8.3-final"
  },
  "orig_nbformat": 2,
  "kernelspec": {
   "name": "python3",
   "display_name": "Python 3",
   "language": "python"
  }
 },
 "nbformat": 4,
 "nbformat_minor": 2,
 "cells": [
  {
   "cell_type": "code",
   "execution_count": 1,
   "metadata": {
    "tags": []
   },
   "outputs": [
    {
     "output_type": "stream",
     "name": "stdout",
     "text": "1\n3\n5\n7\n9\n945\n"
    }
   ],
   "source": [
    "summa = 1\n",
    "\n",
    "for i in range (1,11,2):\n",
    "    print(i)\n",
    "    summa=summa*i\n",
    "    \n",
    "print(f\"{summa}\")"
   ]
  },
  {
   "cell_type": "code",
   "execution_count": 17,
   "metadata": {
    "tags": []
   },
   "outputs": [
    {
     "output_type": "stream",
     "name": "stdout",
     "text": "antalet pengar efter 15 år 15579.67416600765\n"
    }
   ],
   "source": [
    "insättning = 10000\n",
    "förändringsfaktor = 1.03\n",
    "år = 0\n",
    "\n",
    "for i in range(15):\n",
    "    insättning = insättning*förändringsfaktor\n",
    "    år+=1\n",
    "\n",
    "print(f\"antalet pengar efter 15 år {insättning}\")"
   ]
  },
  {
   "cell_type": "code",
   "execution_count": 1,
   "metadata": {
    "tags": []
   },
   "outputs": [
    {
     "output_type": "stream",
     "name": "stdout",
     "text": [
      "1\t2\t3\t4\t5\t6\t7\t8\t9\t10\t\n2\t4\t6\t8\t10\t12\t14\t16\t18\t20\t\n3\t6\t9\t12\t15\t18\t21\t24\t27\t30\t\n4\t8\t12\t16\t20\t24\t28\t32\t36\t40\t\n5\t10\t15\t20\t25\t30\t35\t40\t45\t50\t\n6\t12\t18\t24\t30\t36\t42\t48\t54\t60\t\n7\t14\t21\t28\t35\t42\t49\t56\t63\t70\t\n8\t16\t24\t32\t40\t48\t56\t64\t72\t80\t\n9\t18\t27\t36\t45\t54\t63\t72\t81\t90\t\n10\t20\t30\t40\t50\t60\t70\t80\t90\t100\t\n"
     ]
    }
   ],
   "source": [
    "# m04u03\n",
    "# m04u03b\n",
    "\n",
    "antal=int(input(\"skriv in ett positivt tal mellan 1 och 15\"))\n",
    "if 1 <= int(antal) <= 15:\n",
    "    for rad in range(1,antal+1):\n",
    "        for colum in range(1,antal+1):\n",
    "            print(rad*colum, end=\"\\t\")\n",
    "        print()\n",
    "else:\n",
    "    print(\"för stort tal\")"
   ]
  },
  {
   "cell_type": "code",
   "execution_count": 12,
   "metadata": {
    "tags": []
   },
   "outputs": [
    {
     "output_type": "stream",
     "name": "stdout",
     "text": "10\n9\n8\n7\n6\n5\n4\n3\n2\n1\n2\n"
    }
   ],
   "source": [
    "# m04u04\n",
    "\n",
    "tal = 11\n",
    "while tal > 1:\n",
    "    tal -= 1\n",
    "    print(tal)\n",
    "\n",
    "\n",
    "print(summa)"
   ]
  },
  {
   "cell_type": "code",
   "execution_count": 4,
   "metadata": {
    "tags": []
   },
   "outputs": [
    {
     "output_type": "stream",
     "name": "stdout",
     "text": "det tar 14 månader för populationen att bli en miljon\n"
    }
   ],
   "source": [
    "# m04u05\n",
    "\n",
    "månader = 0\n",
    "råttor = 100\n",
    "\n",
    "while råttor < 1000000:\n",
    "    råttor=råttor*2\n",
    "    månader+=1\n",
    "\n",
    "print(f\"det tar {månader} månader för populationen att bli över en miljon\")"
   ]
  },
  {
   "cell_type": "code",
   "execution_count": 14,
   "metadata": {
    "tags": []
   },
   "outputs": [
    {
     "output_type": "stream",
     "name": "stdout",
     "text": "antalet pengar efter 15 år 15579.67416600765\n"
    }
   ],
   "source": [
    "#m04e01\n",
    "\n",
    "insättning = 10000\n",
    "förändringsfaktor = 1.03\n",
    "år = 0\n",
    "\n",
    "while år < 15:\n",
    "    insättning = insättning*förändringsfaktor\n",
    "    år+=1\n",
    "\n",
    "print(f\"antalet pengar efter 15 år {insättning}\")"
   ]
  },
  {
   "cell_type": "code",
   "execution_count": 3,
   "metadata": {
    "tags": []
   },
   "outputs": [
    {
     "output_type": "stream",
     "name": "stdout",
     "text": "det tar 14 månader för populationen att bli över en miljon\n"
    }
   ],
   "source": [
    "# m04e02\n",
    "\n",
    "månader = 0\n",
    "råttor = 100\n",
    "\n",
    "for i in range(1000000000):\n",
    "    råttor=råttor*2\n",
    "    månader+=1\n",
    "    if råttor > 1000000:\n",
    "        break\n",
    "\n",
    "print(f\"det tar {månader} månader för populationen att bli över en miljon\")"
   ]
  },
  {
   "cell_type": "code",
   "execution_count": 3,
   "metadata": {
    "tags": []
   },
   "outputs": [
    {
     "output_type": "stream",
     "name": "stdout",
     "text": [
      "1\n2\n3\n4\n5\n6\n7\n8\n9\n"
     ]
    }
   ],
   "source": [
    "       jas = 0\n",
    "\n",
    "while jas == 0:\n",
    "    for i in range(1,10):\n",
    "            print(i)\n",
    "    jas += 1"
   ]
  },
  {
   "cell_type": "code",
   "execution_count": null,
   "metadata": {},
   "outputs": [],
   "source": []
  }
 ]
}